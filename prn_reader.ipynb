{
 "cells": [
  {
   "cell_type": "code",
   "execution_count": 35,
   "metadata": {},
   "outputs": [],
   "source": [
    "# Import all required modules\n",
    "import pandas as pd\n",
    "import re"
   ]
  },
  {
   "cell_type": "code",
   "execution_count": 36,
   "metadata": {},
   "outputs": [],
   "source": [
    "# User-defined functions\n",
    "def findCase(index, lines):\n",
    "    \"\"\"Given a Case starting line index, extracts all the\n",
    "    parameters for said Case\n",
    "    index: int, starting line index\n",
    "    lines: list of strings, each line of the PRN file\"\"\"\n",
    "    case = []\n",
    "    pattern = \".\\+\\+\\+\\+\\+.\"\n",
    "    for line in lines[index:]:\n",
    "        if re.search(pattern, line):\n",
    "            break\n",
    "        else:\n",
    "            case.append(line.replace('+','').strip())\n",
    "    return case\n",
    "\n",
    "def parseColumns():\n",
    "    \"\"\"Read and parse column names\"\"\"\n",
    "    return\n",
    "\n",
    "def parseValues():\n",
    "    \"Read and parse column values\"\n",
    "    return"
   ]
  },
  {
   "cell_type": "code",
   "execution_count": 37,
   "metadata": {},
   "outputs": [],
   "source": [
    "# Load required file(s) as text\n",
    "input_file = \"system_complex_output.Prn\"\n",
    "with open(input_file, 'r') as f:\n",
    "    lines = f.readlines()"
   ]
  },
  {
   "cell_type": "code",
   "execution_count": 38,
   "metadata": {},
   "outputs": [],
   "source": [
    "# Identify number of Cases and get parameters for each one\n",
    "pattern = \"Case \\d+\"\n",
    "cases = []\n",
    "for num, line in enumerate(lines):\n",
    "    if re.search(pattern, line):\n",
    "        #print(num, line)\n",
    "        cases.append(findCase(num, lines))"
   ]
  },
  {
   "cell_type": "code",
   "execution_count": 39,
   "metadata": {},
   "outputs": [],
   "source": [
    "# Generate a map of the Cases"
   ]
  },
  {
   "cell_type": "code",
   "execution_count": 40,
   "metadata": {},
   "outputs": [
    {
     "data": {
      "text/plain": [
       "['       Max. Turner Velocity - Production String     4.936            (ft/sec)\\n',\n",
       " '       Min. Turner Velocity - Production String     2.345            (ft/sec)\\n',\n",
       " '    Erosional Velocity Flag - Production String         0                    \\n',\n",
       " '       Turner Velocity Flag - Production String         1                    \\n',\n",
       " '         PE5 Stability Flag - Production String         1                    \\n',\n",
       " '    Hydrates Formation Flag - Production String         0                    \\n',\n",
       " '        Wax Appearance Flag - Production String         0                    \\n']"
      ]
     },
     "execution_count": 40,
     "metadata": {},
     "output_type": "execute_result"
    }
   ],
   "source": [
    "lines[15000:]"
   ]
  }
 ],
 "metadata": {
  "kernelspec": {
   "display_name": "base",
   "language": "python",
   "name": "python3"
  },
  "language_info": {
   "codemirror_mode": {
    "name": "ipython",
    "version": 3
   },
   "file_extension": ".py",
   "mimetype": "text/x-python",
   "name": "python",
   "nbconvert_exporter": "python",
   "pygments_lexer": "ipython3",
   "version": "3.9.13"
  },
  "orig_nbformat": 4
 },
 "nbformat": 4,
 "nbformat_minor": 2
}
