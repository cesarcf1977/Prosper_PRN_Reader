{
 "cells": [
  {
   "cell_type": "code",
   "execution_count": 116,
   "metadata": {},
   "outputs": [],
   "source": [
    "# Import all required modules\n",
    "import pandas as pd\n",
    "import re"
   ]
  },
  {
   "cell_type": "code",
   "execution_count": 117,
   "metadata": {},
   "outputs": [],
   "source": [
    "# User-defined functions\n",
    "def findCase(index, lines):\n",
    "    \"\"\"Given a Case starting line index, extracts all the\n",
    "    parameters for said Case\n",
    "    index: int, starting line index\n",
    "    lines: list of strings, each line of the PRN file\"\"\"\n",
    "    case = []\n",
    "    pattern = \".\\+\\+\\+\\+\\+.\"\n",
    "    for line in lines[index:]:\n",
    "        if re.search(pattern, line):\n",
    "            break\n",
    "        else:\n",
    "            case.append(line.replace('+','').strip())\n",
    "    return case\n",
    "\n",
    "def parseColumns():\n",
    "    \"\"\"Read and parse column names.\n",
    "    Needs to be done once per file, as\n",
    "    columns should remain the same for all cases\"\"\"\n",
    "    pattern = \".\\_ \\_.\"\n",
    "    rowIndex = 0\n",
    "    numSpaces = 0\n",
    "    for num, line in enumerate(lines):\n",
    "        if re.search(pattern, line):\n",
    "            rowIndex = num-2\n",
    "            numSpaces = line[num].count(pattern)\n",
    "            numSpaces = len(re.findall(pattern, line))\n",
    "            return (rowIndex, numSpaces)\n",
    "            break\n",
    "    \n",
    "def test(pattern, line):\n",
    "    indices = []\n",
    "    for match in re.finditer(pattern, line):\n",
    "        index = match.start()\n",
    "        value = match.group()\n",
    "        indices.append(index+2)\n",
    "        #print(index, value)\n",
    "    return indices\n",
    "\n",
    "def splitString(indices, string):\n",
    "    parts = [string[i:j].strip() for i,j in zip(indices, indices[1:]+[None])]\n",
    "    return parts\n",
    "\n",
    "def parseValues():\n",
    "    \"Read and parse column values\"\n",
    "    return"
   ]
  },
  {
   "cell_type": "code",
   "execution_count": 118,
   "metadata": {},
   "outputs": [],
   "source": [
    "# Load required file(s) as text\n",
    "input_file = \"system_complex_output.Prn\"\n",
    "with open(input_file, 'r') as f:\n",
    "    lines = f.readlines()"
   ]
  },
  {
   "cell_type": "code",
   "execution_count": 119,
   "metadata": {},
   "outputs": [],
   "source": [
    "# Identify number of Cases and get parameters for each one\n",
    "pattern = \"Case \\d+\"\n",
    "cases = []\n",
    "for num, line in enumerate(lines):\n",
    "    if re.search(pattern, line):\n",
    "        #print(num, line)\n",
    "        cases.append(findCase(num, lines))"
   ]
  },
  {
   "cell_type": "code",
   "execution_count": 120,
   "metadata": {},
   "outputs": [],
   "source": [
    "# Generate a map of the Cases"
   ]
  },
  {
   "cell_type": "code",
   "execution_count": 121,
   "metadata": {},
   "outputs": [
    {
     "name": "stdout",
     "output_type": "stream",
     "text": [
      "[12, 22, 33, 45, 58, 71, 85, 98, 108, 125, 145, 166, 189, 211, 243, 274, 318, 365, 412, 446, 480, 524, 568, 602, 636, 676, 716, 756, 796, 837, 878, 922, 963, 1002, 1046]\n"
     ]
    },
    {
     "data": {
      "text/plain": [
       "['Oil Rate',\n",
       " 'Water Rate',\n",
       " 'Liquid Rate',\n",
       " 'VLP Pressure',\n",
       " 'IPR Pressure',\n",
       " 'Gas Viscosity',\n",
       " 'Gas Z Factor',\n",
       " 'M(P)',\n",
       " 'Wellhead Presure',\n",
       " 'First Node Pressure',\n",
       " 'Wellhead Temperature',\n",
       " 'First Node Temperature',\n",
       " 'Last Node Temperature',\n",
       " 'dP Friction - Production String',\n",
       " 'dP Gravity - Production String',\n",
       " 'Cumulative Transit Time - Production String',\n",
       " 'Max. Total NoSlip Velocity - Production String',\n",
       " 'Min. Total NoSlip Velocity - Production String',\n",
       " 'Max. Pressure - Production String',\n",
       " 'Min. Pressure - Production String',\n",
       " 'Max. Erosional Velocity - Production String',\n",
       " 'Min. Erosional Velocity - Production String',\n",
       " 'Max. C Factor - Production String',\n",
       " 'Min. C Factor - Production String',\n",
       " 'Max. Grain Diameter - Production String',\n",
       " 'Min. Grain Diameter - Production String',\n",
       " 'Max. Corrosion Rate - Production String',\n",
       " 'Min. Corrosion Rate - Production String',\n",
       " 'Max. Turner Velocity - Production String',\n",
       " 'Min. Turner Velocity - Production String',\n",
       " 'Erosional Velocity Flag - Production String',\n",
       " 'Turner Velocity Flag - Production String',\n",
       " 'PE5 Stability Flag - Production String',\n",
       " 'Hydrates Formation Flag - Production String',\n",
       " 'Wax Appearance Flag - Production String']"
      ]
     },
     "execution_count": 121,
     "metadata": {},
     "output_type": "execute_result"
    }
   ],
   "source": [
    "indices = test(\".\\_ \\_.\",lines[18])\n",
    "print(indices)\n",
    "splitString(indices, lines[16])"
   ]
  }
 ],
 "metadata": {
  "kernelspec": {
   "display_name": "base",
   "language": "python",
   "name": "python3"
  },
  "language_info": {
   "codemirror_mode": {
    "name": "ipython",
    "version": 3
   },
   "file_extension": ".py",
   "mimetype": "text/x-python",
   "name": "python",
   "nbconvert_exporter": "python",
   "pygments_lexer": "ipython3",
   "version": "3.9.13"
  },
  "orig_nbformat": 4
 },
 "nbformat": 4,
 "nbformat_minor": 2
}
