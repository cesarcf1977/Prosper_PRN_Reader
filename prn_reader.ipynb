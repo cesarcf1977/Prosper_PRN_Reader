{
 "cells": [
  {
   "cell_type": "code",
   "execution_count": 34,
   "metadata": {},
   "outputs": [],
   "source": [
    "# Import all required modules\n",
    "import pandas as pd\n",
    "import re"
   ]
  },
  {
   "cell_type": "code",
   "execution_count": 35,
   "metadata": {},
   "outputs": [],
   "source": [
    "# User-defined functions\n",
    "def initialize(lines):\n",
    "    \"\"\"All one-timers\"\"\"\n",
    "    # Find separators line and extrac separatos indices\n",
    "\n",
    "\n",
    "    return separators\n",
    "\n",
    "def compileCases(index, lines):\n",
    "    \"\"\"Given a Case starting line index, extracts all the\n",
    "    parameters for said Case.\n",
    "    index: int, starting line index\n",
    "    lines: list of strings, each line of the PRN file\"\"\"\n",
    "    case = []\n",
    "    pattern = \".\\+\\+\\+\\+\\+.\"\n",
    "    for line in lines[index:]:\n",
    "        if re.search(pattern, line):\n",
    "            break\n",
    "        else:\n",
    "            case.append(line.replace('+','').strip())\n",
    "    return case\n",
    "\n",
    "def identifyCases(lines):\n",
    "    pattern = \"Case \\d+\"\n",
    "    cases = []\n",
    "    for num, line in enumerate(lines):\n",
    "        if re.search(pattern, line):\n",
    "            #print(num, line)\n",
    "            cases.append(compileCases(num, lines))\n",
    "    return cases\n",
    "\n",
    "def findSepLines(sepPattern, lines):\n",
    "    \"\"\"Find line with separators and return all indices\"\"\"\n",
    "    rowIndices = []\n",
    "    for num, line in enumerate(lines):\n",
    "        if re.search(sepPattern, line):\n",
    "            rowIndices.append(num)\n",
    "    return rowIndices\n",
    "    \n",
    "def patternLoc(pattern, line):\n",
    "    \"\"\"Locates all occurrences of a regex pattern.\n",
    "    Returns the string index for each ocurrence.\"\"\"\n",
    "    indices = []\n",
    "    for match in re.finditer(pattern, line):\n",
    "        index = match.start()\n",
    "        value = match.group()\n",
    "        indices.append(index+2)\n",
    "        #print(index, value)\n",
    "    return indices\n",
    "\n",
    "def splitStringLoc(indices, string):\n",
    "    \"\"\"Spits a string at specified index locations.\"\"\"\n",
    "    parts = [string[i:j].strip() for i,j in zip(indices, indices[1:]+[None])]\n",
    "    return parts\n",
    "\n",
    "def parseValues(index, lines):\n",
    "    values = []\n",
    "    goOn = True\n",
    "    i= 1\n",
    "    while (goOn):\n",
    "        if len(lines[index+i])>1:\n",
    "            value = lines[index+i].split()\n",
    "            values.append(value)\n",
    "            #print(value)\n",
    "            i+=1\n",
    "        else:\n",
    "            goOn = False\n",
    "    return values"
   ]
  },
  {
   "cell_type": "code",
   "execution_count": 36,
   "metadata": {},
   "outputs": [],
   "source": [
    "# Load required file(s) as text\n",
    "input_file = \"system_complex_output.Prn\"\n",
    "with open(input_file, 'r') as f:\n",
    "    lines = f.readlines()"
   ]
  },
  {
   "cell_type": "code",
   "execution_count": 44,
   "metadata": {},
   "outputs": [],
   "source": [
    "# Identify number of Cases and get parameters for each one\n",
    "sepPattern = \".\\_\\s*\\_.\"\n",
    "cases = identifyCases(lines)\n",
    "sepLines = findSepLines(sepPattern, lines)\n",
    "separators = patternLoc(sepPattern, lines[sepLines[0]])\n",
    "columnNames = splitStringLoc(separators, lines[sepLines[0]-2])\n",
    "columnUnits = splitStringLoc(separators, lines[sepLines[0]-1])\n",
    "values = []\n",
    "for i, num in enumerate(sepLines):\n",
    "    if i%2==0:\n",
    "        #print (num)\n",
    "        values.append(parseValues(num, lines))\n"
   ]
  },
  {
   "cell_type": "code",
   "execution_count": 45,
   "metadata": {},
   "outputs": [
    {
     "data": {
      "text/plain": [
       "{28, 47}"
      ]
     },
     "execution_count": 45,
     "metadata": {},
     "output_type": "execute_result"
    }
   ],
   "source": [
    "# tests\n",
    "len(sepLines)\n",
    "test = [j-i for i, j in zip(sepLines[:-1], sepLines[1:])]\n",
    "set(test)\n"
   ]
  }
 ],
 "metadata": {
  "kernelspec": {
   "display_name": "base",
   "language": "python",
   "name": "python3"
  },
  "language_info": {
   "codemirror_mode": {
    "name": "ipython",
    "version": 3
   },
   "file_extension": ".py",
   "mimetype": "text/x-python",
   "name": "python",
   "nbconvert_exporter": "python",
   "pygments_lexer": "ipython3",
   "version": "3.9.13"
  },
  "orig_nbformat": 4
 },
 "nbformat": 4,
 "nbformat_minor": 2
}
